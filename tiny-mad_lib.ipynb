{
 "cells": [
  {
   "cell_type": "markdown",
   "metadata": {},
   "source": [
    "# tiny MAdlib"
   ]
  },
  {
   "cell_type": "code",
   "execution_count": 3,
   "metadata": {},
   "outputs": [
    {
     "name": "stdout",
     "output_type": "stream",
     "text": [
      "On my journey, I discovered enourmus elephant that could dance!\n",
      "=============================================================================\n",
      "In the lab, we experimented and created enourmus elephant that can dance!\n",
      "=============================================================================\n",
      "With a wave of my wand, I turned enourmus elephant into something that can dance!\n",
      "=============================================================================\n",
      "This morning, I saw enourmus elephant trying to dance on the street!\n",
      "=============================================================================\n",
      "I never thought I'd see enourmus elephant suddenly dance right in front of me!\n",
      "=============================================================================\n",
      "With Python, I built enourmus elephant that can actually dance!\n",
      "=============================================================================\n"
     ]
    }
   ],
   "source": [
    "def main():\n",
    "    adj: str = input(\"Enter an Adjective to fit in: \")\n",
    "    noun: str = input(\"Enter an Noun to fit in: \")\n",
    "    verb: str = input(\"Enter an Verb to fit in: \")\n",
    "\n",
    "    print(f\"On my journey, I discovered {adj} {noun} that could {verb}!\")\n",
    "    print(\"=============================================================================\")\n",
    "    print(f\"In the lab, we experimented and created {adj} {noun} that can {verb}!\")\n",
    "    print(\"=============================================================================\")\n",
    "    print(f\"With a wave of my wand, I turned {adj} {noun} into something that can {verb}!\")\n",
    "    print(\"=============================================================================\")\n",
    "    print(f\"This morning, I saw {adj} {noun} trying to {verb} on the street!\")\n",
    "    print(\"=============================================================================\")\n",
    "    print(f\"I never thought I'd see {adj} {noun} suddenly {verb} right in front of me!\")\n",
    "    print(\"=============================================================================\")\n",
    "    print(f\"With Python, I built {adj} {noun} that can actually {verb}!\")\n",
    "    print(\"=============================================================================\")\n",
    "\n",
    "if __name__ == \"__main__\":\n",
    "    main()"
   ]
  }
 ],
 "metadata": {
  "kernelspec": {
   "display_name": "Python 3",
   "language": "python",
   "name": "python3"
  },
  "language_info": {
   "codemirror_mode": {
    "name": "ipython",
    "version": 3
   },
   "file_extension": ".py",
   "mimetype": "text/x-python",
   "name": "python",
   "nbconvert_exporter": "python",
   "pygments_lexer": "ipython3",
   "version": "3.13.2"
  }
 },
 "nbformat": 4,
 "nbformat_minor": 2
}
