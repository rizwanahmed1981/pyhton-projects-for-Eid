{
 "cells": [
  {
   "cell_type": "markdown",
   "metadata": {},
   "source": [
    "# double the user input"
   ]
  },
  {
   "cell_type": "code",
   "execution_count": 4,
   "metadata": {},
   "outputs": [
    {
     "name": "stdout",
     "output_type": "stream",
     "text": [
      "<class 'ValueError'> please Enter valid number\n"
     ]
    }
   ],
   "source": [
    "def double():\n",
    "    user_num = input(\"Enter the number to double: \")\n",
    "    try:\n",
    "        num = int(user_num)\n",
    "        double_num = num *2\n",
    "        print(f\"double of {num} is : {double_num}\")\n",
    "    except ValueError:\n",
    "        print(f\"{ValueError} please Enter valid number\")\n",
    "\n",
    "def main():\n",
    "    double()\n",
    "\n",
    "\n",
    "if __name__ == \"__main__\":\n",
    "    main()"
   ]
  }
 ],
 "metadata": {
  "kernelspec": {
   "display_name": "Python 3",
   "language": "python",
   "name": "python3"
  },
  "language_info": {
   "codemirror_mode": {
    "name": "ipython",
    "version": 3
   },
   "file_extension": ".py",
   "mimetype": "text/x-python",
   "name": "python",
   "nbconvert_exporter": "python",
   "pygments_lexer": "ipython3",
   "version": "3.13.2"
  }
 },
 "nbformat": 4,
 "nbformat_minor": 2
}
