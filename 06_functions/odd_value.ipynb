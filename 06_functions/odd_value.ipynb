{
 "cells": [
  {
   "cell_type": "markdown",
   "metadata": {},
   "source": [
    "# Odd number Extractor"
   ]
  },
  {
   "cell_type": "code",
   "execution_count": 2,
   "metadata": {},
   "outputs": [
    {
     "name": "stdout",
     "output_type": "stream",
     "text": [
      "1 is odd number\n",
      "3 is odd number\n",
      "5 is odd number\n",
      "7 is odd number\n",
      "9 is odd number\n",
      "11 is odd number\n",
      "13 is odd number\n",
      "15 is odd number\n",
      "17 is odd number\n",
      "19 is odd number\n"
     ]
    }
   ],
   "source": [
    "\n",
    "LIMIT = 20\n",
    "\n",
    "def odd_extractor():\n",
    "    for num in range(LIMIT):\n",
    "        if num % 2 != 0:\n",
    "            print(f\"{num} is odd number\")\n",
    "\n",
    "def main():\n",
    "    odd_extractor()\n",
    "\n",
    "if __name__ == \"__main__\":\n",
    "    main()"
   ]
  }
 ],
 "metadata": {
  "kernelspec": {
   "display_name": "Python 3",
   "language": "python",
   "name": "python3"
  },
  "language_info": {
   "codemirror_mode": {
    "name": "ipython",
    "version": 3
   },
   "file_extension": ".py",
   "mimetype": "text/x-python",
   "name": "python",
   "nbconvert_exporter": "python",
   "pygments_lexer": "ipython3",
   "version": "3.13.2"
  }
 },
 "nbformat": 4,
 "nbformat_minor": 2
}
