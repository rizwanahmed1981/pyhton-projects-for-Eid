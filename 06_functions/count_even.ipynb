{
 "cells": [
  {
   "cell_type": "markdown",
   "metadata": {},
   "source": [
    "# Counts Even Numbers From The User Created List"
   ]
  },
  {
   "cell_type": "code",
   "execution_count": 19,
   "metadata": {},
   "outputs": [
    {
     "name": "stdout",
     "output_type": "stream",
     "text": [
      "total even number count : 3\n",
      "List of Even numbers: [2, 4, 6]\n"
     ]
    }
   ],
   "source": [
    "\n",
    "# Function to create List\n",
    "def create_list():\n",
    "    num_list: list = []\n",
    "    user_input = input(\"Enter number to add in list or hit Enter to exit: \")\n",
    "    while user_input != \"\":\n",
    "        try: #added try and except block to check valid number input\n",
    "            num = int(user_input)\n",
    "            num_list.append(num)\n",
    "            user_input = input(\"Enter number to add in list or hit Enter to exit: \")\n",
    "        except ValueError:\n",
    "            # print(\"Inavlid input please enter a valid number\")\n",
    "            user_input = input(\"Inavlid input please enter a valid number! Enter number to add in list or hit Enter to exit: \")\n",
    "\n",
    "    even_num_list(num_list=num_list)\n",
    "\n",
    "# function to create evn number list\n",
    "def even_num_list(num_list):\n",
    "    count_even = 0\n",
    "    even_num_list: list = []\n",
    "    for num in num_list:\n",
    "        if num % 2 == 0:\n",
    "            even_num_list.append(num)\n",
    "            count_even += 1\n",
    "    print(f\"total even number count : {count_even}\")\n",
    "    print(f\"List of Even numbers: {even_num_list}\")\n",
    "\n",
    "\n",
    "def main():\n",
    "    create_list()\n",
    "\n",
    "if __name__ ==\"__main__\":\n",
    "    main()"
   ]
  }
 ],
 "metadata": {
  "kernelspec": {
   "display_name": "Python 3",
   "language": "python",
   "name": "python3"
  },
  "language_info": {
   "codemirror_mode": {
    "name": "ipython",
    "version": 3
   },
   "file_extension": ".py",
   "mimetype": "text/x-python",
   "name": "python",
   "nbconvert_exporter": "python",
   "pygments_lexer": "ipython3",
   "version": "3.13.2"
  }
 },
 "nbformat": 4,
 "nbformat_minor": 2
}
