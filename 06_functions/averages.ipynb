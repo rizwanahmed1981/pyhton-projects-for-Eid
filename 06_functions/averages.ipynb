{
 "cells": [
  {
   "cell_type": "markdown",
   "metadata": {},
   "source": [
    "# average of Two numbers"
   ]
  },
  {
   "cell_type": "code",
   "execution_count": null,
   "metadata": {},
   "outputs": [
    {
     "name": "stdout",
     "output_type": "stream",
     "text": [
      "16.0\n"
     ]
    }
   ],
   "source": [
    "# defining avarege function\n",
    "def average(num1, num2):\n",
    "    average = (num1 + num2) / 2\n",
    "    print(average)\n",
    "\n",
    "# defining main function to take user inputs and run average of the inputs\n",
    "def main():\n",
    "    num1 = int(input(\"Enter your first number: \"))\n",
    "    num2 = int(input(\"Enter your 2nd number: \"))\n",
    "    average(num1=num1, num2=num2)\n",
    "\n",
    "if __name__ == \"__main__\":\n",
    "    main()"
   ]
  }
 ],
 "metadata": {
  "kernelspec": {
   "display_name": "Python 3",
   "language": "python",
   "name": "python3"
  },
  "language_info": {
   "codemirror_mode": {
    "name": "ipython",
    "version": 3
   },
   "file_extension": ".py",
   "mimetype": "text/x-python",
   "name": "python",
   "nbconvert_exporter": "python",
   "pygments_lexer": "ipython3",
   "version": "3.13.2"
  }
 },
 "nbformat": 4,
 "nbformat_minor": 2
}
