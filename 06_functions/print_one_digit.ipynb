{
 "cells": [
  {
   "cell_type": "markdown",
   "metadata": {},
   "source": [
    "## print one digit function\n"
   ]
  },
  {
   "cell_type": "code",
   "execution_count": 4,
   "metadata": {},
   "outputs": [
    {
     "name": "stdout",
     "output_type": "stream",
     "text": [
      "42 The one digit is 2\n"
     ]
    }
   ],
   "source": [
    "def print_digit(user_input):\n",
    "    remainder = int(user_input) % 10\n",
    "    print(f\"{user_input} The one digit is {remainder}\")\n",
    "\n",
    "\n",
    "def main():\n",
    "    user_input = input(\"Enter a random number to get last digit printed: \")\n",
    "\n",
    "    print_digit(user_input)\n",
    "\n",
    "if __name__ == \"__main__\":\n",
    "    main()\n"
   ]
  }
 ],
 "metadata": {
  "kernelspec": {
   "display_name": "Python 3",
   "language": "python",
   "name": "python3"
  },
  "language_info": {
   "codemirror_mode": {
    "name": "ipython",
    "version": 3
   },
   "file_extension": ".py",
   "mimetype": "text/x-python",
   "name": "python",
   "nbconvert_exporter": "python",
   "pygments_lexer": "ipython3",
   "version": "3.13.2"
  }
 },
 "nbformat": 4,
 "nbformat_minor": 2
}
