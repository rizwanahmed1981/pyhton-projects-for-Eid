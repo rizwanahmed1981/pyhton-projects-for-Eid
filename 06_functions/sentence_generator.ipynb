{
 "cells": [
  {
   "cell_type": "markdown",
   "metadata": {},
   "source": [
    "# Sentence Generator"
   ]
  },
  {
   "cell_type": "code",
   "execution_count": null,
   "metadata": {},
   "outputs": [
    {
     "name": "stdout",
     "output_type": "stream",
     "text": [
      "Is Your word noun, verb or adjective?\n",
      "part of speach must be 1, 2 or 3! inavlid input\n"
     ]
    }
   ],
   "source": [
    "def main():\n",
    "    word : str = input(\"Enter your word: \")\n",
    "    print(\"Is Your word noun, verb or adjective?\")\n",
    "    part_of_speach: int = int(input(\"Enter 1 for noun, 2 for verb or 3 for adjective: \"))\n",
    "\n",
    "    make_sentence(word, part_of_speach)\n",
    "\n",
    "def make_sentence(word, part_of_speach):\n",
    "    if part_of_speach == 1: #noun\n",
    "        print(f\"I am exited to add {word} to my wast collection of them!\")\n",
    "    elif part_of_speach == 2: #verb\n",
    "        print(f\"It is so nice outside today it makes me want to {word}!\")\n",
    "    elif part_of_speach == 3: #adjective\n",
    "        print(f\"Looking out my window, the sky is big and {word}!\")\n",
    "    else:\n",
    "        print(\"part of speach must be 1, 2 or 3! inavlid input\")\n",
    "\n",
    "\n",
    "if __name__ == \"__main__\":\n",
    "    main()"
   ]
  }
 ],
 "metadata": {
  "kernelspec": {
   "display_name": "Python 3",
   "language": "python",
   "name": "python3"
  },
  "language_info": {
   "codemirror_mode": {
    "name": "ipython",
    "version": 3
   },
   "file_extension": ".py",
   "mimetype": "text/x-python",
   "name": "python",
   "nbconvert_exporter": "python",
   "pygments_lexer": "ipython3",
   "version": "3.13.2"
  }
 },
 "nbformat": 4,
 "nbformat_minor": 2
}
