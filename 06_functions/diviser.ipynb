{
 "cells": [
  {
   "cell_type": "markdown",
   "metadata": {},
   "source": [
    "# Diviser function"
   ]
  },
  {
   "cell_type": "code",
   "execution_count": 4,
   "metadata": {},
   "outputs": [
    {
     "name": "stdout",
     "output_type": "stream",
     "text": [
      "Here are all divisors of 20\n",
      "1 2 4 5 10 20 "
     ]
    }
   ],
   "source": [
    "def main():\n",
    "    user_number = int(input(\"Enter number to get it's deviser: \"))\n",
    "    diviser(user_number)\n",
    "\n",
    "\n",
    "def diviser(num):\n",
    "    print(f\"Here are all divisors of {num}\")\n",
    "    for i in range(num):\n",
    "        curr_diviser = i + 1\n",
    "        if num % curr_diviser == 0:\n",
    "            print(curr_diviser, end=\" \")\n",
    "\n",
    "if __name__ == \"__main__\":\n",
    "    main()"
   ]
  }
 ],
 "metadata": {
  "kernelspec": {
   "display_name": "Python 3",
   "language": "python",
   "name": "python3"
  },
  "language_info": {
   "codemirror_mode": {
    "name": "ipython",
    "version": 3
   },
   "file_extension": ".py",
   "mimetype": "text/x-python",
   "name": "python",
   "nbconvert_exporter": "python",
   "pygments_lexer": "ipython3",
   "version": "3.13.2"
  }
 },
 "nbformat": 4,
 "nbformat_minor": 2
}
