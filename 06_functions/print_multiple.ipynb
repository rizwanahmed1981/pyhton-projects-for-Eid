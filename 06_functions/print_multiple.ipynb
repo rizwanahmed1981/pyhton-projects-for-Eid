{
 "cells": [
  {
   "cell_type": "markdown",
   "metadata": {},
   "source": [
    "# printing multiple times the same statement"
   ]
  },
  {
   "cell_type": "code",
   "execution_count": 2,
   "metadata": {},
   "outputs": [
    {
     "name": "stdout",
     "output_type": "stream",
     "text": [
      "my name is rizwan\n",
      "my name is rizwan\n",
      "my name is rizwan\n",
      "my name is rizwan\n",
      "my name is rizwan\n",
      "my name is rizwan\n"
     ]
    }
   ],
   "source": [
    "def multiple_print():\n",
    "    message = input(\"Enter message to print: \")\n",
    "    multiplier = int(input(\"Enter how many times you want to print the message: \"))\n",
    "\n",
    "    for i in range(multiplier):\n",
    "        print(message)\n",
    "\n",
    "def main():\n",
    "    multiple_print()\n",
    "\n",
    "\n",
    "if __name__ == \"__main__\":\n",
    "    main()"
   ]
  }
 ],
 "metadata": {
  "kernelspec": {
   "display_name": "Python 3",
   "language": "python",
   "name": "python3"
  },
  "language_info": {
   "codemirror_mode": {
    "name": "ipython",
    "version": 3
   },
   "file_extension": ".py",
   "mimetype": "text/x-python",
   "name": "python",
   "nbconvert_exporter": "python",
   "pygments_lexer": "ipython3",
   "version": "3.13.2"
  }
 },
 "nbformat": 4,
 "nbformat_minor": 2
}
