{
 "cells": [
  {
   "cell_type": "markdown",
   "metadata": {},
   "source": [
    "# Chaotic Counting"
   ]
  },
  {
   "cell_type": "code",
   "execution_count": 45,
   "metadata": {},
   "outputs": [
    {
     "name": "stdout",
     "output_type": "stream",
     "text": [
      "I'm going to count until 10 or until I feel like stopping, whichever comes first.\n",
      "1 2 3 4 5 6 7 8 9 10 \n",
      "I'm done.\n"
     ]
    }
   ],
   "source": [
    "import random \n",
    "\n",
    "# Set the probability of stopping early\n",
    "DONE_LIKELIHOOD = 0.1  # set % chance to stop at each step lower the percentage chance of stopping is low highr is vice versa\n",
    "\n",
    "def chaotic_counting():\n",
    "    \"\"\" Counts from 1 to 10 but stops randomly based on DONE_LIKELIHOOD. \"\"\"\n",
    "    for i in range(10):  # Loop from 0 to 9 (10 iterations)\n",
    "        curr_num = i + 1  \n",
    "        \n",
    "        if done():  # Check if we should stop counting\n",
    "            return  # Exit function early\n",
    "        \n",
    "        print(curr_num, end=\" \") \n",
    "\n",
    "def done():\n",
    "    \"\"\" Returns True with a probability of DONE_LIKELIHOOD (random early stopping). \"\"\"\n",
    "    return random.random() < DONE_LIKELIHOOD  # set % chance to return True\n",
    "\n",
    "def main():\n",
    "    print(\"I'm going to count until 10 or until I feel like stopping, whichever comes first.\")\n",
    "    chaotic_counting()  # Start counting\n",
    "    print(\"\\nI'm done.\")  # Print this after counting stops\n",
    "\n",
    "if __name__ == \"__main__\":\n",
    "    main()\n"
   ]
  }
 ],
 "metadata": {
  "kernelspec": {
   "display_name": "Python 3",
   "language": "python",
   "name": "python3"
  },
  "language_info": {
   "codemirror_mode": {
    "name": "ipython",
    "version": 3
   },
   "file_extension": ".py",
   "mimetype": "text/x-python",
   "name": "python",
   "nbconvert_exporter": "python",
   "pygments_lexer": "ipython3",
   "version": "3.13.2"
  }
 },
 "nbformat": 4,
 "nbformat_minor": 2
}
