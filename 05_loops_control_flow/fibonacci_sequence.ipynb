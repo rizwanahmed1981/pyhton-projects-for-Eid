{
 "cells": [
  {
   "cell_type": "markdown",
   "metadata": {},
   "source": [
    "# Fibonacci Sequence"
   ]
  },
  {
   "cell_type": "code",
   "execution_count": 4,
   "metadata": {},
   "outputs": [
    {
     "name": "stdout",
     "output_type": "stream",
     "text": [
      "Fib(0) = 0\n",
      "Fib(1) = 1\n",
      "Fib(1) = 1\n",
      "Fib(2) = 2\n",
      "Fib(3) = 3\n",
      "Fib(5) = 5\n",
      "Fib(8) = 8\n",
      "Fib(13) = 13\n",
      "Fib(21) = 21\n",
      "Fib(34) = 34\n",
      "Fib(55) = 55\n",
      "Fib(89) = 89\n",
      "Fib(144) = 144\n",
      "Fib(233) = 233\n",
      "Fib(377) = 377\n",
      "Fib(610) = 610\n",
      "Fib(987) = 987\n",
      "Fib(1597) = 1597\n",
      "Fib(2584) = 2584\n",
      "Fib(4181) = 4181\n",
      "Fib(6765) = 6765\n"
     ]
    }
   ],
   "source": [
    "MAX_TERM_VALUE = 10000\n",
    "\n",
    "def main():\n",
    "    current_term = 0\n",
    "    next_term = 1\n",
    "    while current_term <= MAX_TERM_VALUE:\n",
    "        print(f\"Fib({current_term}) = {current_term}\")\n",
    "        term_after_next = current_term + next_term\n",
    "        current_term = next_term\n",
    "        next_term = term_after_next\n",
    "\n",
    "if __name__ == \"__main__\":\n",
    "    main()"
   ]
  }
 ],
 "metadata": {
  "kernelspec": {
   "display_name": "Python 3",
   "language": "python",
   "name": "python3"
  },
  "language_info": {
   "codemirror_mode": {
    "name": "ipython",
    "version": 3
   },
   "file_extension": ".py",
   "mimetype": "text/x-python",
   "name": "python",
   "nbconvert_exporter": "python",
   "pygments_lexer": "ipython3",
   "version": "3.13.2"
  }
 },
 "nbformat": 4,
 "nbformat_minor": 2
}
