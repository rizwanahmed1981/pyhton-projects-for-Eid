{
 "cells": [
  {
   "cell_type": "markdown",
   "metadata": {
    "vscode": {
     "languageId": "plaintext"
    }
   },
   "source": [
    "# guess my number Game -- computer\n"
   ]
  },
  {
   "cell_type": "code",
   "execution_count": 6,
   "metadata": {},
   "outputs": [
    {
     "name": "stdout",
     "output_type": "stream",
     "text": [
      "guess a number between 1 and 100:\n",
      "Your Guess is too high\n",
      "====================\n",
      "guess again a number between 1 and 100:\n",
      "Your Guess is too high\n",
      "====================\n",
      "guess again a number between 1 and 100:\n",
      "Your Guess is too low\n",
      "====================\n",
      "guess again a number between 1 and 100:\n",
      "Your Guess is too low\n",
      "====================\n",
      "guess again a number between 1 and 100:\n",
      "Your Guess is too low\n",
      "====================\n",
      "guess again a number between 1 and 100:\n",
      "Your Guess is too high\n",
      "====================\n",
      "guess again a number between 1 and 100:\n",
      "Your Guess is too high\n",
      "====================\n",
      "guess again a number between 1 and 100:\n",
      "Your Guess is too high\n",
      "====================\n",
      "guess again a number between 1 and 100:\n",
      "Your Guess is too low\n",
      "====================\n",
      "guess again a number between 1 and 100:\n",
      "====================\n",
      "congartes You guessed the right number str66\n"
     ]
    }
   ],
   "source": [
    "import random as rd\n",
    "\n",
    "def main():\n",
    "    secret_number = rd.randint(1, 100)\n",
    "\n",
    "    print(\"guess a number between 1 and 100:\")\n",
    "    guess = int(input(\"Enter your guess: \"))\n",
    "    while guess != secret_number:\n",
    "        if guess < secret_number:\n",
    "            print(\"Your Guess is too low\")\n",
    "        else:\n",
    "            print(\"Your Guess is too high\")\n",
    "\n",
    "        print(f\"{\"=\" * 20}\")\n",
    "        print(\"guess again a number between 1 and 100:\")\n",
    "        guess = int(input(\"Enter your guess: \"))\n",
    "    print(f\"{\"=\" * 20}\")\n",
    "    print(f\"congartes You guessed the right number str{secret_number}\")\n",
    "\n",
    "    \n",
    "if __name__ == \"__main__\":\n",
    "    main()"
   ]
  }
 ],
 "metadata": {
  "kernelspec": {
   "display_name": "Python 3",
   "language": "python",
   "name": "python3"
  },
  "language_info": {
   "codemirror_mode": {
    "name": "ipython",
    "version": 3
   },
   "file_extension": ".py",
   "mimetype": "text/x-python",
   "name": "python",
   "nbconvert_exporter": "python",
   "pygments_lexer": "ipython3",
   "version": "3.13.2"
  }
 },
 "nbformat": 4,
 "nbformat_minor": 2
}
