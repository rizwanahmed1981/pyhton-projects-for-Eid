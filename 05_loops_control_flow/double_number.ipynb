{
 "cells": [
  {
   "cell_type": "markdown",
   "metadata": {},
   "source": [
    "# Double the User input"
   ]
  },
  {
   "cell_type": "code",
   "execution_count": null,
   "metadata": {},
   "outputs": [
    {
     "name": "stdout",
     "output_type": "stream",
     "text": [
      "50\n",
      "50\n",
      "92\n",
      "184\n",
      "200\n",
      "this program cannot double more then 100\n"
     ]
    }
   ],
   "source": [
    "# my understanding about doubling the userinput is like the following code\n",
    "# as far as the qustion is \"it should be like sequentiolly doubling the given input by user\" \n",
    "\n",
    "def main():\n",
    "    MAX_LIMIT = 100\n",
    "    user_input = int(input(\"Enter a number to make it double: \"))\n",
    "\n",
    "    while user_input <= MAX_LIMIT:\n",
    "        double_num = user_input * 2\n",
    "        print(double_num)\n",
    "        user_input = int(input(\"Enter a number to make it double: \"))\n",
    "\n",
    "    print(f\"this program cannot double more then {MAX_LIMIT}\")\n",
    "\n",
    "if __name__ == \"__main__\":\n",
    "    main()"
   ]
  },
  {
   "cell_type": "code",
   "execution_count": 8,
   "metadata": {},
   "outputs": [
    {
     "name": "stdout",
     "output_type": "stream",
     "text": [
      "6 12 24 48 96 192 "
     ]
    }
   ],
   "source": [
    "def main():\n",
    "    curr_value = int(input(\"Enter a number: \"))\n",
    "\n",
    "    # Keep doubling the value until it reaches or exceeds 100\n",
    "    while curr_value < 100:\n",
    "        curr_value = curr_value * 2  # Double the current value\n",
    "        print(curr_value, end=\" \")  # Print the value on the same line with a space\n",
    "\n",
    "if __name__ == \"__main__\":\n",
    "    main()"
   ]
  }
 ],
 "metadata": {
  "kernelspec": {
   "display_name": "Python 3",
   "language": "python",
   "name": "python3"
  },
  "language_info": {
   "codemirror_mode": {
    "name": "ipython",
    "version": 3
   },
   "file_extension": ".py",
   "mimetype": "text/x-python",
   "name": "python",
   "nbconvert_exporter": "python",
   "pygments_lexer": "ipython3",
   "version": "3.13.2"
  }
 },
 "nbformat": 4,
 "nbformat_minor": 2
}
