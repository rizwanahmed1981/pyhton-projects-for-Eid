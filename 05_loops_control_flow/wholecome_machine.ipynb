{
 "cells": [
  {
   "cell_type": "markdown",
   "metadata": {},
   "source": [
    "# WholeSome Machine"
   ]
  },
  {
   "cell_type": "code",
   "execution_count": 6,
   "metadata": {},
   "outputs": [
    {
     "name": "stdout",
     "output_type": "stream",
     "text": [
      "write the affirmation to confirm No Pain No Gain. Risk Takers Allways Win!\n",
      "you did not type the affirmation correctly\n",
      "please type this No Pain No Gain. Risk Takers Allways Win! to confirm\n",
      "you did not type the affirmation correctly\n",
      "please type this No Pain No Gain. Risk Takers Allways Win! to confirm\n",
      "you did not type the affirmation correctly\n",
      "please type this No Pain No Gain. Risk Takers Allways Win! to confirm\n",
      "you did not type the affirmation correctly\n",
      "please type this No Pain No Gain. Risk Takers Allways Win! to confirm\n",
      "No Pain No Gain. Risk Takers Allways Win! now you got it right!\n"
     ]
    }
   ],
   "source": [
    "AFFIRMATION = \"No Pain No Gain. Risk Takers Allways Win!\"\n",
    "\n",
    "def main():\n",
    "    print(f\"write the affirmation to confirm {AFFIRMATION}\")\n",
    "\n",
    "    user_affirmation = input()\n",
    "\n",
    "    while user_affirmation != AFFIRMATION:\n",
    "        print(\"you did not type the affirmation correctly\")\n",
    "\n",
    "        print(f\"please type this {AFFIRMATION} to confirm\")\n",
    "\n",
    "        user_affirmation = input()\n",
    "\n",
    "    print(f\"{AFFIRMATION} now you got it right!\")\n",
    "\n",
    "if __name__ == \"__main__\":\n",
    "    main()"
   ]
  }
 ],
 "metadata": {
  "kernelspec": {
   "display_name": "Python 3",
   "language": "python",
   "name": "python3"
  },
  "language_info": {
   "codemirror_mode": {
    "name": "ipython",
    "version": 3
   },
   "file_extension": ".py",
   "mimetype": "text/x-python",
   "name": "python",
   "nbconvert_exporter": "python",
   "pygments_lexer": "ipython3",
   "version": "3.13.2"
  }
 },
 "nbformat": 4,
 "nbformat_minor": 2
}
