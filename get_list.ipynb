{
 "cells": [
  {
   "cell_type": "markdown",
   "metadata": {},
   "source": [
    "# printing user created list\n"
   ]
  },
  {
   "cell_type": "code",
   "execution_count": null,
   "metadata": {},
   "outputs": [
    {
     "name": "stdout",
     "output_type": "stream",
     "text": [
      "['rizwan', '42', 'age']\n"
     ]
    }
   ],
   "source": [
    "def print_list(lst):\n",
    "    \"\"\"This function is goona print the entire list created by user input\"\"\"\n",
    "    print(lst)\n",
    "\n",
    "def create_list():\n",
    "    \"\"\"This function is gonna get input from user and add it to list\"\"\"\n",
    "    lst: list = []\n",
    "    # getting user input\n",
    "    elem = input(\"Enter something to add to list or hit Enter to Exit: \")\n",
    "\n",
    "    while elem != \"\":\n",
    "        lst.append(elem)\n",
    "        elem = input(\"Enter something to add to list or hit Enter to Exit: \")\n",
    "\n",
    "    return lst\n",
    "\n",
    "def main():\n",
    "    \"\"\"This function is gonna envoke all above functions\"\"\"\n",
    "    lst = create_list()\n",
    "    print_list(lst)\n",
    "\n",
    "\n",
    "if __name__ == \"__main__\":\n",
    "    main()"
   ]
  }
 ],
 "metadata": {
  "kernelspec": {
   "display_name": "Python 3",
   "language": "python",
   "name": "python3"
  },
  "language_info": {
   "codemirror_mode": {
    "name": "ipython",
    "version": 3
   },
   "file_extension": ".py",
   "mimetype": "text/x-python",
   "name": "python",
   "nbconvert_exporter": "python",
   "pygments_lexer": "ipython3",
   "version": "3.13.2"
  }
 },
 "nbformat": 4,
 "nbformat_minor": 2
}
