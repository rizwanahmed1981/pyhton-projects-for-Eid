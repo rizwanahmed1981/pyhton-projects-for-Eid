{
 "cells": [
  {
   "cell_type": "markdown",
   "metadata": {},
   "source": [
    "# total cost of fruits bought"
   ]
  },
  {
   "cell_type": "code",
   "execution_count": 1,
   "metadata": {},
   "outputs": [
    {
     "name": "stdout",
     "output_type": "stream",
     "text": [
      "Your total is $ 118.5\n"
     ]
    }
   ],
   "source": [
    "def main():\n",
    "    fruits: dict = {\n",
    "        \"Apple\": 1.5,\n",
    "        \"Durain\": 50,\n",
    "        \"JackFruit\": 80,\n",
    "        \"Kiwi\": 1,\n",
    "        \"Rambutan\": 1.5,\n",
    "        \"Mango\": 5,\n",
    "    }\n",
    "\n",
    "    total_cost: float = 0\n",
    "    for fruit_name in fruits:\n",
    "        price = fruits[fruit_name]\n",
    "        amount_bought = int(input(f\"how many {fruit_name} do you want to buy? \"))\n",
    "        total_cost += (price * amount_bought)\n",
    "\n",
    "    print(f\"Your total is $ {str(total_cost)}\")\n",
    "\n",
    "if __name__ == \"__main__\":\n",
    "    main()"
   ]
  }
 ],
 "metadata": {
  "kernelspec": {
   "display_name": "Python 3",
   "language": "python",
   "name": "python3"
  },
  "language_info": {
   "codemirror_mode": {
    "name": "ipython",
    "version": 3
   },
   "file_extension": ".py",
   "mimetype": "text/x-python",
   "name": "python",
   "nbconvert_exporter": "python",
   "pygments_lexer": "ipython3",
   "version": "3.13.2"
  }
 },
 "nbformat": 4,
 "nbformat_minor": 2
}
