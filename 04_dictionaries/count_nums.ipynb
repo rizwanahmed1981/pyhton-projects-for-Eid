{
 "cells": [
  {
   "cell_type": "markdown",
   "metadata": {},
   "source": [
    "# num count in a list\n",
    "\n",
    "** this program takes input from user and store it in a list and returns count of the number that how many times the number appeared in the list"
   ]
  },
  {
   "cell_type": "code",
   "execution_count": 2,
   "metadata": {},
   "outputs": [
    {
     "name": "stdout",
     "output_type": "stream",
     "text": [
      "[45, 12, 45, 12, 78, 46, 12, 45, 78, 96, 6, 3, 5, 4]\n",
      "45 appeared 3 times\n",
      "12 appeared 3 times\n",
      "78 appeared 2 times\n",
      "46 appeared 1 times\n",
      "96 appeared 1 times\n",
      "6 appeared 1 times\n",
      "3 appeared 1 times\n",
      "5 appeared 1 times\n",
      "4 appeared 1 times\n"
     ]
    }
   ],
   "source": [
    "def get_user_num():\n",
    "\n",
    "    user_nums: list = []\n",
    "    while True:\n",
    "        user_input = input(\"Enter a number to add to list or Hit Enter to exit: \")\n",
    "\n",
    "        if user_input == \"\":\n",
    "            break\n",
    "        num = int(user_input)\n",
    "        user_nums.append(num)\n",
    "    print(user_nums)\n",
    "    return user_nums\n",
    "\n",
    "def count_numbers(num_list):\n",
    "\n",
    "    num_dict: dict = {}\n",
    "    for num in num_list:\n",
    "        if num not in num_dict:\n",
    "            num_dict[num] =1\n",
    "        \n",
    "        else:\n",
    "            num_dict[num] += 1\n",
    "\n",
    "    return num_dict\n",
    "\n",
    "def print_counts(num_dict):\n",
    "\n",
    "\n",
    "    for num in num_dict:\n",
    "        print(f\"{str(num)} appeared {str(num_dict[num])} times\")\n",
    "\n",
    "\n",
    "def main():\n",
    "\n",
    "    user_numbers = get_user_num()\n",
    "    num_dict = count_numbers(user_numbers)\n",
    "    print_counts(num_dict)\n",
    "\n",
    "\n",
    "\n",
    "if __name__ == \"__main__\":\n",
    "    main()"
   ]
  }
 ],
 "metadata": {
  "kernelspec": {
   "display_name": "Python 3",
   "language": "python",
   "name": "python3"
  },
  "language_info": {
   "codemirror_mode": {
    "name": "ipython",
    "version": 3
   },
   "file_extension": ".py",
   "mimetype": "text/x-python",
   "name": "python",
   "nbconvert_exporter": "python",
   "pygments_lexer": "ipython3",
   "version": "3.13.2"
  }
 },
 "nbformat": 4,
 "nbformat_minor": 2
}
