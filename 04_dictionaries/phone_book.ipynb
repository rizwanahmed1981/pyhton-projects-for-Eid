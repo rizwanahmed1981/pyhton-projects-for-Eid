{
 "cells": [
  {
   "cell_type": "markdown",
   "metadata": {},
   "source": [
    "# creating a phone book to store data in python\n"
   ]
  },
  {
   "cell_type": "code",
   "execution_count": 12,
   "metadata": {},
   "outputs": [
    {
     "name": "stdout",
     "output_type": "stream",
     "text": [
      "your complete phone book {'nadeem': '123456'}\n"
     ]
    }
   ],
   "source": [
    "# function to add name and numbers into the phone book\n",
    "\n",
    "def read_phone_numbers():\n",
    "    phone_book: dict = {}\n",
    "    while True:\n",
    "        name = input(\"enter name to add to phone book or Hit enter to quit: \")\n",
    "\n",
    "        if name == \"\":\n",
    "            break\n",
    "\n",
    "        else:\n",
    "            number = input(\"enter number to add with name: \")\n",
    "            phone_book[name] = number\n",
    "    \n",
    "    return phone_book\n",
    "        \n",
    "\n",
    "\n",
    "# funtion to check and retrive data from phone book\n",
    "def name_lookup(phone_book):\n",
    "    while True:\n",
    "        name = input(\"Enter name to lookup in directory: \")\n",
    "\n",
    "        if name == \"\":\n",
    "            break\n",
    "        if name not in phone_book:\n",
    "            print(f\"{name} is not present in phone book\")\n",
    "\n",
    "        else:\n",
    "            print(phone_book[name])\n",
    "\n",
    "\n",
    "# main function to print whole phone book and look for saved numbers in phone book\n",
    "def main():\n",
    "    phone_book = read_phone_numbers()\n",
    "    print(f\"your complete phone book {phone_book}\")\n",
    "    name_lookup(phone_book)\n",
    "    \n",
    "\n",
    "if __name__ == \"__main__\":\n",
    "    main()\n"
   ]
  }
 ],
 "metadata": {
  "kernelspec": {
   "display_name": "Python 3",
   "language": "python",
   "name": "python3"
  },
  "language_info": {
   "codemirror_mode": {
    "name": "ipython",
    "version": 3
   },
   "file_extension": ".py",
   "mimetype": "text/x-python",
   "name": "python",
   "nbconvert_exporter": "python",
   "pygments_lexer": "ipython3",
   "version": "3.13.2"
  }
 },
 "nbformat": 4,
 "nbformat_minor": 2
}
