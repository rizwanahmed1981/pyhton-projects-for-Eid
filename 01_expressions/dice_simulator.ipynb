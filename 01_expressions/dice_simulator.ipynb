{
 "cells": [
  {
   "cell_type": "markdown",
   "metadata": {},
   "source": [
    "# Dice Simulator"
   ]
  },
  {
   "cell_type": "code",
   "execution_count": 4,
   "metadata": {},
   "outputs": [
    {
     "name": "stdout",
     "output_type": "stream",
     "text": [
      "Total of Two Dices are 3\n",
      "Total of Two Dices are 6\n",
      "Total of Two Dices are 10\n",
      "Total of Three Rolls of Two Dices is 19\n"
     ]
    }
   ],
   "source": [
    "import random\n",
    "\n",
    "num_side: int = 6\n",
    "\n",
    "def dice_roll():\n",
    "    dice1: int = random.randint(1, num_side)\n",
    "    dice2: int = random.randint(1, num_side)\n",
    "\n",
    "    total: int = dice1 + dice2\n",
    "    print(f\"Total of Two Dices are {total}\")\n",
    "    return total\n",
    "\n",
    "\n",
    "def main():\n",
    "    roll1 = dice_roll()\n",
    "    roll2 = dice_roll()\n",
    "    roll3 = dice_roll()\n",
    "    total = roll1 + roll2 + roll3\n",
    "    print(f\"Total of Three Rolls of Two Dices is {str(total)}\")\n",
    "\n",
    "if __name__ == \"__main__\":\n",
    "    main()"
   ]
  }
 ],
 "metadata": {
  "kernelspec": {
   "display_name": "Python 3",
   "language": "python",
   "name": "python3"
  },
  "language_info": {
   "codemirror_mode": {
    "name": "ipython",
    "version": 3
   },
   "file_extension": ".py",
   "mimetype": "text/x-python",
   "name": "python",
   "nbconvert_exporter": "python",
   "pygments_lexer": "ipython3",
   "version": "3.13.2"
  }
 },
 "nbformat": 4,
 "nbformat_minor": 2
}
