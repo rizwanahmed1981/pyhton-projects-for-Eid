{
 "cells": [
  {
   "cell_type": "markdown",
   "metadata": {},
   "source": [
    "# Einstein's Mas Energy Equivalence Formula"
   ]
  },
  {
   "cell_type": "code",
   "execution_count": 6,
   "metadata": {},
   "outputs": [
    {
     "name": "stdout",
     "output_type": "stream",
     "text": [
      "e = m * C^2...\n",
      "m = 10.0 kg\n",
      "C = 29972458 m/s\n",
      "10.0 Kg of Mass is  8983482385617640.0 Joules of Energy\n"
     ]
    }
   ],
   "source": [
    "def main():\n",
    "    mass_in_kg: float = float(input(\"Enter Mass in Kg: \")) \n",
    "\n",
    "    c = 29972458\n",
    "\n",
    "    e = mass_in_kg * (c ** 2)\n",
    "\n",
    "    print(\"e = m * C^2...\")\n",
    "    print(\"m = \" + str(mass_in_kg) + \" kg\")\n",
    "    print(\"C = \" + str(c) + \" m/s\")\n",
    "\n",
    "    print(f\"{str(mass_in_kg)} Kg of Mass is  {str(e)} Joules of Energy\")\n",
    "\n",
    "if __name__ == \"__main__\":\n",
    "    main()"
   ]
  }
 ],
 "metadata": {
  "kernelspec": {
   "display_name": "Python 3",
   "language": "python",
   "name": "python3"
  },
  "language_info": {
   "codemirror_mode": {
    "name": "ipython",
    "version": 3
   },
   "file_extension": ".py",
   "mimetype": "text/x-python",
   "name": "python",
   "nbconvert_exporter": "python",
   "pygments_lexer": "ipython3",
   "version": "3.13.2"
  }
 },
 "nbformat": 4,
 "nbformat_minor": 2
}
