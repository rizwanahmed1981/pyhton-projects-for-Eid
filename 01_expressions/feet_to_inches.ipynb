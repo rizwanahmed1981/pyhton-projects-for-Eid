{
 "cells": [
  {
   "cell_type": "markdown",
   "metadata": {},
   "source": [
    "# feet to inches"
   ]
  },
  {
   "cell_type": "code",
   "execution_count": 2,
   "metadata": {},
   "outputs": [
    {
     "name": "stdout",
     "output_type": "stream",
     "text": [
      "2.0  Feets is 24.0 Inches: \n"
     ]
    }
   ],
   "source": [
    "def main():\n",
    "    feet: float = float(input(\"Enter Length in Feet: \"))\n",
    "    inches:float = feet * 12\n",
    "\n",
    "    print(f\"{str(feet)}  Feets is {str(inches)} Inches: \")\n",
    "\n",
    "if __name__ == \"__main__\":\n",
    "    main()"
   ]
  },
  {
   "cell_type": "markdown",
   "metadata": {},
   "source": [
    "# inchec to feet"
   ]
  },
  {
   "cell_type": "code",
   "execution_count": 3,
   "metadata": {},
   "outputs": [
    {
     "name": "stdout",
     "output_type": "stream",
     "text": [
      "24.0  Inches is 2.0 Feets: \n"
     ]
    }
   ],
   "source": [
    "def main():\n",
    "    inches: float = float(input(\"Enter Length in Feet: \"))\n",
    "    feet:float = inches / 12\n",
    "\n",
    "    print(f\"{str(inches)}  Inches is {str(feet)} Feets: \")\n",
    "\n",
    "if __name__ == \"__main__\":\n",
    "    main()"
   ]
  }
 ],
 "metadata": {
  "kernelspec": {
   "display_name": "Python 3",
   "language": "python",
   "name": "python3"
  },
  "language_info": {
   "codemirror_mode": {
    "name": "ipython",
    "version": 3
   },
   "file_extension": ".py",
   "mimetype": "text/x-python",
   "name": "python",
   "nbconvert_exporter": "python",
   "pygments_lexer": "ipython3",
   "version": "3.13.2"
  }
 },
 "nbformat": 4,
 "nbformat_minor": 2
}
