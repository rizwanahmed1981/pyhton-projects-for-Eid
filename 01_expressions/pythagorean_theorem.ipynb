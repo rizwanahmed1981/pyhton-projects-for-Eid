{
 "cells": [
  {
   "cell_type": "markdown",
   "metadata": {},
   "source": [
    "# Pythagorean Theorem"
   ]
  },
  {
   "cell_type": "code",
   "execution_count": 8,
   "metadata": {},
   "outputs": [
    {
     "name": "stdout",
     "output_type": "stream",
     "text": [
      "the length of the BC is 21.21\n"
     ]
    }
   ],
   "source": [
    "import math\n",
    "\n",
    "\n",
    "def main():\n",
    "    side_ab: float = float(input(\"Enter Length of side AB: \"))\n",
    "    side_ac: float = float(input(\"Enter Length of side AC: \"))\n",
    "\n",
    "    bc:float = round(math.sqrt(side_ab ** 2 + side_ac ** 2), 2)\n",
    "\n",
    "    print(f\"the length of the BC is {str(bc)}\")\n",
    "\n",
    "if __name__ == \"__main__\":\n",
    "    main()"
   ]
  }
 ],
 "metadata": {
  "kernelspec": {
   "display_name": "Python 3",
   "language": "python",
   "name": "python3"
  },
  "language_info": {
   "codemirror_mode": {
    "name": "ipython",
    "version": 3
   },
   "file_extension": ".py",
   "mimetype": "text/x-python",
   "name": "python",
   "nbconvert_exporter": "python",
   "pygments_lexer": "ipython3",
   "version": "3.13.2"
  }
 },
 "nbformat": 4,
 "nbformat_minor": 2
}
