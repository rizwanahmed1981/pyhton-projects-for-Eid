{
 "cells": [
  {
   "cell_type": "markdown",
   "metadata": {},
   "source": [
    "# age Calculator"
   ]
  },
  {
   "cell_type": "code",
   "execution_count": 4,
   "metadata": {},
   "outputs": [
    {
     "name": "stdout",
     "output_type": "stream",
     "text": [
      "Anton is 21 Years old\n",
      "Beth is 27 Years old\n",
      "Chen is 47 Years old\n",
      "Drew is 68 Years old\n",
      "Ethen is 47 Years old\n"
     ]
    }
   ],
   "source": [
    "def main():\n",
    "    antons_age: int = 21\n",
    "    beth_age: int = antons_age + 6\n",
    "    chen_age: int = beth_age + 20\n",
    "    drew_age: int = chen_age + antons_age\n",
    "    \n",
    "\n",
    "    print(f\"Anton is {antons_age} Years old\")\n",
    "    print(f\"Beth is {beth_age} Years old\")\n",
    "    print(f\"Chen is {chen_age} Years old\")\n",
    "    print(f\"Drew is {drew_age} Years old\")\n",
    "    print(f\"Ethen is {chen_age} Years old\")\n",
    "\n",
    "if __name__ == \"__main__\":\n",
    "    main()\n"
   ]
  },
  {
   "cell_type": "code",
   "execution_count": null,
   "metadata": {},
   "outputs": [],
   "source": []
  }
 ],
 "metadata": {
  "kernelspec": {
   "display_name": "Python 3",
   "language": "python",
   "name": "python3"
  },
  "language_info": {
   "codemirror_mode": {
    "name": "ipython",
    "version": 3
   },
   "file_extension": ".py",
   "mimetype": "text/x-python",
   "name": "python",
   "nbconvert_exporter": "python",
   "pygments_lexer": "ipython3",
   "version": "3.13.2"
  }
 },
 "nbformat": 4,
 "nbformat_minor": 2
}
