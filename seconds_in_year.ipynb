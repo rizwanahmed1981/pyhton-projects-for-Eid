{
 "cells": [
  {
   "cell_type": "markdown",
   "metadata": {},
   "source": [
    "# Seconds in a Year Calculater\n"
   ]
  },
  {
   "cell_type": "code",
   "execution_count": 1,
   "metadata": {},
   "outputs": [
    {
     "name": "stdout",
     "output_type": "stream",
     "text": [
      "there are 31536000 Seconds in a Year\n"
     ]
    }
   ],
   "source": [
    "def main():\n",
    "    days_in_year: int = 365\n",
    "    hour_in_day: int = 24\n",
    "    min_in_hour: int = 60\n",
    "    seconds_in_min: int = 60\n",
    "\n",
    "    seconds_in_year :int = days_in_year * hour_in_day * min_in_hour * seconds_in_min\n",
    "\n",
    "    print(f\"there are {seconds_in_year} Seconds in a Year\")\n",
    "\n",
    "if __name__ == \"__main__\":\n",
    "    main()"
   ]
  }
 ],
 "metadata": {
  "kernelspec": {
   "display_name": "Python 3",
   "language": "python",
   "name": "python3"
  },
  "language_info": {
   "codemirror_mode": {
    "name": "ipython",
    "version": 3
   },
   "file_extension": ".py",
   "mimetype": "text/x-python",
   "name": "python",
   "nbconvert_exporter": "python",
   "pygments_lexer": "ipython3",
   "version": "3.13.2"
  }
 },
 "nbformat": 4,
 "nbformat_minor": 2
}
