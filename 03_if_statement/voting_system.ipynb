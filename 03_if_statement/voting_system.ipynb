{
 "cells": [
  {
   "cell_type": "markdown",
   "metadata": {},
   "source": [
    "# voting permission in fictional countries"
   ]
  },
  {
   "cell_type": "markdown",
   "metadata": {},
   "source": [
    " #### this program will take age as input from the user and will prompt according to their gae in which country they are allowed to cast vote"
   ]
  },
  {
   "cell_type": "code",
   "execution_count": 5,
   "metadata": {},
   "outputs": [
    {
     "name": "stdout",
     "output_type": "stream",
     "text": [
      "you are too young to vote in any country because your age is 14\n"
     ]
    }
   ],
   "source": [
    "def main():\n",
    "    \"\"\"As all the three countries are fictional we are assuming and writting this program according to the need\"\"\"\n",
    "    PETURKSBOUIPO: int = 16\n",
    "    STANLAU: int = 25\n",
    "    MAYENGUA: int = 48\n",
    "\n",
    "    # INPUT FROM USER\n",
    "    age: int = int(input(\"Please Enter Your Age to check Your Elligibility: \"))\n",
    "\n",
    "    if age >= PETURKSBOUIPO and age < STANLAU:\n",
    "        print(f\"your age is {age}! you are only allowed to vote in Peturksbouipo: You cannot vote in Stanlau where the voting age is 25. You cannot vote in Mayengua where the voting age is 48.\")\n",
    "    elif age >= STANLAU and age < MAYENGUA:\n",
    "        print(f\"your age is {age}! you are  allowed to vote in Peturksbouipo and Stanlau: You cannot vote in Mayengua where the voting age is 48.\")\n",
    "    elif age >= MAYENGUA:\n",
    "        print(f\"your age is {age}! you are  allowed to vote in all the three countries Peturksbouipo, Stanlau and Mayengua\")\n",
    "    else:\n",
    "        print(f\"you are too young to vote in any country because your age is {age}\")\n",
    "if __name__ == \"__main__\":\n",
    "    main()"
   ]
  }
 ],
 "metadata": {
  "kernelspec": {
   "display_name": "Python 3",
   "language": "python",
   "name": "python3"
  },
  "language_info": {
   "codemirror_mode": {
    "name": "ipython",
    "version": 3
   },
   "file_extension": ".py",
   "mimetype": "text/x-python",
   "name": "python",
   "nbconvert_exporter": "python",
   "pygments_lexer": "ipython3",
   "version": "3.13.2"
  }
 },
 "nbformat": 4,
 "nbformat_minor": 2
}
