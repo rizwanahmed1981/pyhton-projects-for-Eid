{
 "cells": [
  {
   "cell_type": "code",
   "execution_count": 17,
   "metadata": {},
   "outputs": [
    {
     "name": "stdout",
     "output_type": "stream",
     "text": [
      "That's not a leap year.\n"
     ]
    }
   ],
   "source": [
    "def main():\n",
    "    # Get the year to check from the user\n",
    "    year = int(input('Please input a year: '))\n",
    "\n",
    "    if year % 4 == 0:  # Checking whether the provided year is evenly divisibly by 4\n",
    "        if year % 100 == 0:  # Checking whether the provided year is evenly divisibly by 100\n",
    "            if year % 400 == 0:  # Checking whether the provided year is evenly divisibly by 400\n",
    "                print(\"That's a leap year!\")\n",
    "            else:  # (Not divisible by 400)\n",
    "                print(\"That's not a leap year.\")\n",
    "        else:  # (Not divisible by 100)\n",
    "            print(\"That's a leap year!\")\n",
    "    else:  # (Not divisible by 4)\n",
    "        print(\"That's not a leap year.\")\n",
    "\n",
    "\n",
    "\n",
    "\n",
    "if __name__ == '__main__':\n",
    "    main()"
   ]
  }
 ],
 "metadata": {
  "kernelspec": {
   "display_name": "Python 3",
   "language": "python",
   "name": "python3"
  },
  "language_info": {
   "codemirror_mode": {
    "name": "ipython",
    "version": 3
   },
   "file_extension": ".py",
   "mimetype": "text/x-python",
   "name": "python",
   "nbconvert_exporter": "python",
   "pygments_lexer": "ipython3",
   "version": "3.13.2"
  }
 },
 "nbformat": 4,
 "nbformat_minor": 2
}
