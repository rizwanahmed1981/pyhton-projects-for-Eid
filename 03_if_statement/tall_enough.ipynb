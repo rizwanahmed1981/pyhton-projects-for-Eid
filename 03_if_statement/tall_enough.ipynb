{
 "cells": [
  {
   "cell_type": "markdown",
   "metadata": {},
   "source": [
    "# Check if the user is tall Enough to Ride"
   ]
  },
  {
   "cell_type": "code",
   "execution_count": 9,
   "metadata": {},
   "outputs": [
    {
     "name": "stdout",
     "output_type": "stream",
     "text": [
      "Youre Eligible To Ride\n",
      "Youre Eligible To Ride\n",
      "you Are Not Tall Enough To Ride\n",
      "you Are Not Tall Enough To Ride\n",
      "you Are Not Tall Enough To Ride\n",
      "invalid input: please Enter valid number\n",
      "you Are Not Tall Enough To Ride\n"
     ]
    }
   ],
   "source": [
    "def check_height():\n",
    "    MIN_Height = 58\n",
    "    user_input = input(\"please enter your height or hit Enter to Exit: \")\n",
    "\n",
    "    while user_input != \"\": #defining loop to continously ask for user input until he/she input an empty string \n",
    "        try:\n",
    "            if int(user_input) >= MIN_Height:\n",
    "                print(\"Youre Eligible To Ride\")\n",
    "                user_input = input(\"please enter your height or hit Enter to Exit: \")\n",
    "            else:\n",
    "                print(\"you Are Not Tall Enough To Ride\")\n",
    "                user_input = input(\"please enter your height or hit Enter to Exit: \")\n",
    "        except:\n",
    "            print(\"invalid input: please Enter valid number\")\n",
    "            user_input = input(\"please enter your height or hit Enter to Exit: \")\n",
    "\n",
    "def main():\n",
    "    check_height()\n",
    "\n",
    "\n",
    "if __name__ == \"__main__\":\n",
    "    main()"
   ]
  }
 ],
 "metadata": {
  "kernelspec": {
   "display_name": "Python 3",
   "language": "python",
   "name": "python3"
  },
  "language_info": {
   "codemirror_mode": {
    "name": "ipython",
    "version": 3
   },
   "file_extension": ".py",
   "mimetype": "text/x-python",
   "name": "python",
   "nbconvert_exporter": "python",
   "pygments_lexer": "ipython3",
   "version": "3.13.2"
  }
 },
 "nbformat": 4,
 "nbformat_minor": 2
}
