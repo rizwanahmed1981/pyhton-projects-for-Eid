{
 "cells": [
  {
   "cell_type": "markdown",
   "metadata": {},
   "source": [
    "# find and print even number from list\n",
    "** this program will take out first 20 even numbers from a given list of numbers"
   ]
  },
  {
   "cell_type": "code",
   "execution_count": 1,
   "metadata": {},
   "outputs": [
    {
     "name": "stdout",
     "output_type": "stream",
     "text": [
      "First 20 even numbers: [0, 2, 4, 6, 8, 10, 12, 14, 16, 18, 20, 22, 44, 58, 82, 92, 102, 204, 304, 344]\n"
     ]
    }
   ],
   "source": [
    "numbers: list = [0,1,2,3,4,5,6,7,8,9,10,11,12,13,14,15,16,17,18,19,20,21,22,44,45,57,58,49,87,82,92,102,105,204, 107, 304, 289, 344, 400]\n",
    "\n",
    "def even_numbers():\n",
    "    even_num: list = []\n",
    "    count = 0\n",
    "    \n",
    "    for num in numbers:\n",
    "        if num % 2 == 0:  # Check if number is even\n",
    "            even_num.append(num)\n",
    "            count += 1\n",
    "            \n",
    "            if count >= 20:  # Stop after finding 20 even numbers\n",
    "                break\n",
    "    \n",
    "    print(f\"First 20 even numbers: {even_num}\")\n",
    "\n",
    "even_numbers()"
   ]
  }
 ],
 "metadata": {
  "kernelspec": {
   "display_name": "Python 3",
   "language": "python",
   "name": "python3"
  },
  "language_info": {
   "codemirror_mode": {
    "name": "ipython",
    "version": 3
   },
   "file_extension": ".py",
   "mimetype": "text/x-python",
   "name": "python",
   "nbconvert_exporter": "python",
   "pygments_lexer": "ipython3",
   "version": "3.13.2"
  }
 },
 "nbformat": 4,
 "nbformat_minor": 2
}
