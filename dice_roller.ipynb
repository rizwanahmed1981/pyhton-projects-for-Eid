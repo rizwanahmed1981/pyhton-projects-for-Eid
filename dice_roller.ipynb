{
 "cells": [
  {
   "cell_type": "markdown",
   "metadata": {},
   "source": [
    "# Dice Roller and Simulater"
   ]
  },
  {
   "cell_type": "code",
   "execution_count": 7,
   "metadata": {},
   "outputs": [
    {
     "name": "stdout",
     "output_type": "stream",
     "text": [
      "first dice roll: 1\n",
      "2nd dice roll: 6\n",
      "total of both roll is 7\n"
     ]
    }
   ],
   "source": [
    "import random\n",
    "\n",
    "dice_roll: int = 6\n",
    "\n",
    "def main():\n",
    "    dice1: int = random.randint(1, dice_roll)\n",
    "    dice2: int = random.randint(1, dice_roll)\n",
    "\n",
    "    total = dice1 + dice2\n",
    "\n",
    "    print(f\"first dice roll: {dice1}\")\n",
    "    print(f\"2nd dice roll: {dice2}\")\n",
    "    print(f\"total of both roll is {total}\")\n",
    "\n",
    "if __name__ == \"__main__\":\n",
    "    main()"
   ]
  }
 ],
 "metadata": {
  "kernelspec": {
   "display_name": "Python 3",
   "language": "python",
   "name": "python3"
  },
  "language_info": {
   "codemirror_mode": {
    "name": "ipython",
    "version": 3
   },
   "file_extension": ".py",
   "mimetype": "text/x-python",
   "name": "python",
   "nbconvert_exporter": "python",
   "pygments_lexer": "ipython3",
   "version": "3.13.2"
  }
 },
 "nbformat": 4,
 "nbformat_minor": 2
}
