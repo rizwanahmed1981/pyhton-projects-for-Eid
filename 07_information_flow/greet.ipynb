{
 "cells": [
  {
   "cell_type": "markdown",
   "metadata": {},
   "source": [
    "## greet function"
   ]
  },
  {
   "cell_type": "code",
   "execution_count": null,
   "metadata": {},
   "outputs": [
    {
     "name": "stdout",
     "output_type": "stream",
     "text": [
      "Assalam o alaikum Welcome to the party Rizwan Ahmed\n"
     ]
    }
   ],
   "source": [
    "def main():\n",
    "    name = input(\"Enter a name to greet: \")\n",
    "    greet(name)\n",
    "\n",
    "def greet(name):\n",
    "    message = f\"Assalam o alaikum! Welcome to the party\"\n",
    "    print(f\"{message} {name}\")\n",
    "\n",
    "if __name__ == \"__main__\":\n",
    "    main()\n"
   ]
  }
 ],
 "metadata": {
  "kernelspec": {
   "display_name": "Python 3",
   "language": "python",
   "name": "python3"
  },
  "language_info": {
   "codemirror_mode": {
    "name": "ipython",
    "version": 3
   },
   "file_extension": ".py",
   "mimetype": "text/x-python",
   "name": "python",
   "nbconvert_exporter": "python",
   "pygments_lexer": "ipython3",
   "version": "3.13.2"
  }
 },
 "nbformat": 4,
 "nbformat_minor": 2
}
