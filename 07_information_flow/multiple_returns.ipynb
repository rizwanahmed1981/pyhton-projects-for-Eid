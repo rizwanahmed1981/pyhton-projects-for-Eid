{
 "cells": [
  {
   "cell_type": "markdown",
   "id": "79a3cffd",
   "metadata": {},
   "source": [
    "## multiple results"
   ]
  },
  {
   "cell_type": "code",
   "execution_count": 2,
   "id": "a923f88a",
   "metadata": {},
   "outputs": [
    {
     "name": "stdout",
     "output_type": "stream",
     "text": [
      "Received the following user data: ('rizwan', 'ahmed', 'razykan.ra@gmail.com')\n"
     ]
    }
   ],
   "source": [
    "def get_user_info():\n",
    "    first_name: str = input(\"What is your first name?: \")\n",
    "    last_name: str = input(\"What is your last name?: \")\n",
    "    email_address : str = input(\"What is your email address?: \")\n",
    "    \n",
    "    return first_name, last_name, email_address\n",
    "\n",
    "\n",
    "\n",
    "def main():\n",
    "    user_data = get_user_info()\n",
    "    print(\"Received the following user data:\", user_data)\n",
    "\n",
    "if __name__ == \"__main__\":\n",
    "     main()"
   ]
  }
 ],
 "metadata": {
  "kernelspec": {
   "display_name": "Python 3",
   "language": "python",
   "name": "python3"
  },
  "language_info": {
   "codemirror_mode": {
    "name": "ipython",
    "version": 3
   },
   "file_extension": ".py",
   "mimetype": "text/x-python",
   "name": "python",
   "nbconvert_exporter": "python",
   "pygments_lexer": "ipython3",
   "version": "3.13.2"
  }
 },
 "nbformat": 4,
 "nbformat_minor": 5
}
