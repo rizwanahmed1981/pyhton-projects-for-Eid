{
 "cells": [
  {
   "cell_type": "markdown",
   "metadata": {},
   "source": [
    "## in Range function"
   ]
  },
  {
   "cell_type": "code",
   "execution_count": 13,
   "metadata": {},
   "outputs": [
    {
     "name": "stdout",
     "output_type": "stream",
     "text": [
      "5 is in the range of 4 and 6\n"
     ]
    }
   ],
   "source": [
    "def main():\n",
    "    n: int = int(input(\"Enter the number 'n' to check: \"))\n",
    "    low: int = int(input(\"Enter the number 'low' to check: \"))\n",
    "    high: int = int(input(\"Enter the number 'high' to check: \"))\n",
    "    in_range(n, low, high)\n",
    "\n",
    "def in_range(n, l, h):\n",
    "    if n > l and n < h:\n",
    "            print(f\"{n} is in the range of {l} and {h}\")\n",
    "    else:\n",
    "        print(f\"the provided low {l} is greater then provided number 'n' {n}\")\n",
    "\n",
    "if __name__ == \"__main__\":\n",
    "    main()"
   ]
  }
 ],
 "metadata": {
  "kernelspec": {
   "display_name": "Python 3",
   "language": "python",
   "name": "python3"
  },
  "language_info": {
   "codemirror_mode": {
    "name": "ipython",
    "version": 3
   },
   "file_extension": ".py",
   "mimetype": "text/x-python",
   "name": "python",
   "nbconvert_exporter": "python",
   "pygments_lexer": "ipython3",
   "version": "3.13.2"
  }
 },
 "nbformat": 4,
 "nbformat_minor": 2
}
