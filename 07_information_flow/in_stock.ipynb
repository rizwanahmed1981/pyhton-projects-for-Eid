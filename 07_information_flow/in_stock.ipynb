{
 "cells": [
  {
   "cell_type": "markdown",
   "metadata": {},
   "source": [
    "## Fruits in stock"
   ]
  },
  {
   "cell_type": "code",
   "execution_count": 2,
   "metadata": {},
   "outputs": [
    {
     "name": "stdout",
     "output_type": "stream",
     "text": [
      "cherry is not in stock!\n"
     ]
    }
   ],
   "source": [
    "def main():\n",
    "    user_query: str = input(\"Enter Fruit name to check stock: \").lower()\n",
    "    stock = in_stock(user_query)\n",
    "    if stock == 0:\n",
    "        print(f\"{user_query} is not in stock!\")\n",
    "    else:\n",
    "        print(f\"{user_query} is in stock quantity: {stock}\")\n",
    "\n",
    "def in_stock(fruit):\n",
    "    if fruit == \"apple\":\n",
    "        return 2\n",
    "    elif fruit == \"banana\":\n",
    "        return 10\n",
    "    elif fruit == \"durian\":\n",
    "        return 5\n",
    "    elif fruit == \"mango\":\n",
    "        return 100\n",
    "    else:\n",
    "        return 0\n",
    "\n",
    "if __name__ == \"__main__\":\n",
    "    main()\n",
    "\n"
   ]
  },
  {
   "cell_type": "markdown",
   "metadata": {},
   "source": [
    "#### Doing by Dictionery method"
   ]
  },
  {
   "cell_type": "code",
   "execution_count": 7,
   "metadata": {},
   "outputs": [
    {
     "name": "stdout",
     "output_type": "stream",
     "text": [
      "durian is in stock quantity: 5\n"
     ]
    }
   ],
   "source": [
    "\n",
    "fruits_in_stock: dict = {\n",
    "    \"apple\": 2,\n",
    "    \"banana\": 10,\n",
    "    \"durian\": 5,\n",
    "    \"mango\": 100\n",
    "}\n",
    "\n",
    "\n",
    "def main():\n",
    "    user_query: str = input(\"Enter Fruit name to check stock: \").lower()\n",
    "    stock = in_stock(user_query)\n",
    "    if stock == 0:\n",
    "        print(f\"{user_query} is not in stock!\")\n",
    "    else:\n",
    "        print(f\"{user_query} is in stock quantity: {stock}\")\n",
    "\n",
    "def in_stock(fruit):\n",
    "     return fruits_in_stock.get(fruit, 0)\n",
    "    # .get() returns the value if key exists, else returns 0\n",
    "\n",
    "if __name__ == \"__main__\":\n",
    "    main()\n",
    "\n"
   ]
  }
 ],
 "metadata": {
  "kernelspec": {
   "display_name": "Python 3",
   "language": "python",
   "name": "python3"
  },
  "language_info": {
   "codemirror_mode": {
    "name": "ipython",
    "version": 3
   },
   "file_extension": ".py",
   "mimetype": "text/x-python",
   "name": "python",
   "nbconvert_exporter": "python",
   "pygments_lexer": "ipython3",
   "version": "3.13.2"
  }
 },
 "nbformat": 4,
 "nbformat_minor": 2
}
