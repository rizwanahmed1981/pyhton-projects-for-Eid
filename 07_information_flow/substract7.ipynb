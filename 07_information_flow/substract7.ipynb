{
 "cells": [
  {
   "cell_type": "markdown",
   "id": "f7a88d6a",
   "metadata": {},
   "source": [
    "## substract 7\n"
   ]
  },
  {
   "cell_type": "code",
   "execution_count": 3,
   "id": "9ee470a0",
   "metadata": {},
   "outputs": [
    {
     "name": "stdout",
     "output_type": "stream",
     "text": [
      "the answer after substarction:  0\n"
     ]
    }
   ],
   "source": [
    "\n",
    "def main():\n",
    "\tnum: int = 7\n",
    "\tnum = subtract_seven(num)\n",
    "\tprint(\"the answer after substarction: \", num)\n",
    "\n",
    "def subtract_seven(num):\n",
    "\tnum = num - 7\n",
    "\treturn num\n",
    "\n",
    "if __name__ == '__main__':\n",
    "    main()"
   ]
  }
 ],
 "metadata": {
  "kernelspec": {
   "display_name": "Python 3",
   "language": "python",
   "name": "python3"
  },
  "language_info": {
   "codemirror_mode": {
    "name": "ipython",
    "version": 3
   },
   "file_extension": ".py",
   "mimetype": "text/x-python",
   "name": "python",
   "nbconvert_exporter": "python",
   "pygments_lexer": "ipython3",
   "version": "3.13.2"
  }
 },
 "nbformat": 4,
 "nbformat_minor": 5
}
