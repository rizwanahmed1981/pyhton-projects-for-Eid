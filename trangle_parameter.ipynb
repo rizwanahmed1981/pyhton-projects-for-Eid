{
 "cells": [
  {
   "cell_type": "markdown",
   "metadata": {},
   "source": [
    "3 Triangle Parameter Calculator"
   ]
  },
  {
   "cell_type": "code",
   "execution_count": null,
   "metadata": {},
   "outputs": [
    {
     "name": "stdout",
     "output_type": "stream",
     "text": [
      "Parameter of The Triangle is 55.0\n"
     ]
    }
   ],
   "source": [
    "def main():\n",
    "    side_a: float = float(input(\"Please Enter Length Of Side A: \"))\n",
    "    side_b: float = float(input(\"Please Enter Length Of Side B: \"))\n",
    "    side_c: float = float(input(\"Please Enter Length Of Side C: \"))\n",
    "\n",
    "    param = side_a +side_b +side_c\n",
    "    print(f\"Parameter of The Triangle is {str(param)}\")\n",
    "\n",
    "if __name__ == \"__main__\":\n",
    "    main()"
   ]
  }
 ],
 "metadata": {
  "kernelspec": {
   "display_name": "Python 3",
   "language": "python",
   "name": "python3"
  },
  "language_info": {
   "codemirror_mode": {
    "name": "ipython",
    "version": 3
   },
   "file_extension": ".py",
   "mimetype": "text/x-python",
   "name": "python",
   "nbconvert_exporter": "python",
   "pygments_lexer": "ipython3",
   "version": "3.13.2"
  }
 },
 "nbformat": 4,
 "nbformat_minor": 2
}
