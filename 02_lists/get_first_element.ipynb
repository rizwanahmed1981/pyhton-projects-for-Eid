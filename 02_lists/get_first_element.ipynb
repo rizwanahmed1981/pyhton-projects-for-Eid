{
 "cells": [
  {
   "cell_type": "markdown",
   "metadata": {},
   "source": [
    "# get first element from the list"
   ]
  },
  {
   "cell_type": "code",
   "execution_count": null,
   "metadata": {},
   "outputs": [
    {
     "name": "stdout",
     "output_type": "stream",
     "text": [
      "ahmed\n"
     ]
    }
   ],
   "source": [
    "def get_1st_elem(lst):\n",
    "    \"\"\"This function will get first element from the list\"\"\"\n",
    "\n",
    "    print(lst[0]) #prints the first element of the list\n",
    "\n",
    "\n",
    "def get_lst():\n",
    "    \"\"\"prompt user to enter elements in the list\"\"\"\n",
    "\n",
    "    lst: list = []\n",
    "\n",
    "    elem = input(\"Please enter an element to add in the list or Enter to exit: \")\n",
    "\n",
    "    while elem != \"\":\n",
    "        lst.append(elem)\n",
    "        elem = input(\"Please enter an element to add in the list or Enter to exit: \")\n",
    "    return lst\n",
    "\n",
    "def main():\n",
    "    \"\"\"This is the main function to invoke other functions\"\"\"\n",
    "    lst = get_lst()\n",
    "    get_1st_elem(lst)\n",
    "\n",
    "\n",
    "if __name__== \"__main__\":\n",
    "    main()"
   ]
  }
 ],
 "metadata": {
  "kernelspec": {
   "display_name": "Python 3",
   "language": "python",
   "name": "python3"
  },
  "language_info": {
   "codemirror_mode": {
    "name": "ipython",
    "version": 3
   },
   "file_extension": ".py",
   "mimetype": "text/x-python",
   "name": "python",
   "nbconvert_exporter": "python",
   "pygments_lexer": "ipython3",
   "version": "3.13.2"
  }
 },
 "nbformat": 4,
 "nbformat_minor": 2
}
