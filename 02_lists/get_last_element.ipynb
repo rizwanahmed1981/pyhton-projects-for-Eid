{
 "cells": [
  {
   "cell_type": "markdown",
   "metadata": {},
   "source": [
    "# Get last element from the list"
   ]
  },
  {
   "cell_type": "code",
   "execution_count": 2,
   "metadata": {},
   "outputs": [
    {
     "name": "stdout",
     "output_type": "stream",
     "text": [
      "hello\n"
     ]
    }
   ],
   "source": [
    "def get_last_elem(lst):\n",
    "    \"\"\"This function is going to print last element of the list if any\"\"\"\n",
    "\n",
    "    print(lst[-1])\n",
    "\n",
    "\n",
    "def get_list():\n",
    "    \"\"\"this function will prompt user to enter in elements in list\"\"\"\n",
    "\n",
    "    elem = input(\"Enter something to add to list or just hit Enter to exit: \")\n",
    "\n",
    "    lst: list = []\n",
    "\n",
    "    while elem != \"\":\n",
    "\n",
    "        lst.append(elem)\n",
    "        elem = input(\"Enter something to add to list or just hit Enter to exit: \")\n",
    "\n",
    "    return lst\n",
    "\n",
    "def main():\n",
    "    lst = get_list()\n",
    "    get_last_elem(lst)\n",
    "\n",
    "if __name__ == \"__main__\":\n",
    "    main()"
   ]
  }
 ],
 "metadata": {
  "kernelspec": {
   "display_name": "Python 3",
   "language": "python",
   "name": "python3"
  },
  "language_info": {
   "codemirror_mode": {
    "name": "ipython",
    "version": 3
   },
   "file_extension": ".py",
   "mimetype": "text/x-python",
   "name": "python",
   "nbconvert_exporter": "python",
   "pygments_lexer": "ipython3",
   "version": "3.13.2"
  }
 },
 "nbformat": 4,
 "nbformat_minor": 2
}
