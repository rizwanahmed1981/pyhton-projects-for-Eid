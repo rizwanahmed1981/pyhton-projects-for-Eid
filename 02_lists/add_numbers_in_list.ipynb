{
 "cells": [
  {
   "cell_type": "markdown",
   "metadata": {},
   "source": [
    "# add numbers in list\n"
   ]
  },
  {
   "cell_type": "code",
   "execution_count": 2,
   "metadata": {},
   "outputs": [
    {
     "name": "stdout",
     "output_type": "stream",
     "text": [
      "51\n"
     ]
    }
   ],
   "source": [
    "def add_numbers_in_list(numbers_list)-> int:\n",
    "    total: int = 0\n",
    "    for num in numbers_list:\n",
    "        total += num\n",
    "\n",
    "    return total\n",
    "\n",
    "def main():\n",
    "    numbers_list: int = [2,8,9,7,10,15]\n",
    "    sum_of_numbers: int = add_numbers_in_list(numbers_list)\n",
    "    print(sum_of_numbers)\n",
    "\n",
    "if __name__ == \"__main__\":\n",
    "    main()"
   ]
  },
  {
   "cell_type": "code",
   "execution_count": 1,
   "metadata": {},
   "outputs": [
    {
     "name": "stdout",
     "output_type": "stream",
     "text": [
      "[2, 8, 9, 7, 10, 15]\n",
      "51\n"
     ]
    }
   ],
   "source": [
    "numbers_list: list = [2,8,9,7,10,15]\n",
    "\n",
    "total: int = 0\n",
    "\n",
    "for num in numbers_list:\n",
    "    total += num\n",
    "\n",
    "\n",
    "print(numbers_list)\n",
    "print(total)\n"
   ]
  }
 ],
 "metadata": {
  "kernelspec": {
   "display_name": "Python 3",
   "language": "python",
   "name": "python3"
  },
  "language_info": {
   "codemirror_mode": {
    "name": "ipython",
    "version": 3
   },
   "file_extension": ".py",
   "mimetype": "text/x-python",
   "name": "python",
   "nbconvert_exporter": "python",
   "pygments_lexer": "ipython3",
   "version": "3.13.2"
  }
 },
 "nbformat": 4,
 "nbformat_minor": 2
}
