{
 "cells": [
  {
   "cell_type": "markdown",
   "metadata": {},
   "source": [
    "# shorten the list to the max element limit"
   ]
  },
  {
   "cell_type": "code",
   "execution_count": 3,
   "metadata": {},
   "outputs": [
    {
     "name": "stdout",
     "output_type": "stream",
     "text": [
      "['hello', 'my', 'name', 'is', 'Rizwan']\n",
      "Rizwan\n"
     ]
    }
   ],
   "source": [
    "MAX_LENGTH: int = 4\n",
    "\n",
    "\n",
    "def short_list(lst):\n",
    "    \"\"\"this function wil shorten the list till the limit and remove the last element to keep the list to its max limit\"\"\"\n",
    "\n",
    "    while len(lst) > MAX_LENGTH:\n",
    "        print(lst)\n",
    "        removed_elem = lst.pop()\n",
    "        print(removed_elem)\n",
    "\n",
    "def get_input():\n",
    "    \"\"\"this function is gonna create a list on the basis of user input\"\"\"\n",
    "\n",
    "    elem = input(\"Please Eneter something to add to list or hit Enter to exit: \")\n",
    "\n",
    "    lst: list = []\n",
    "\n",
    "    while elem != \"\":\n",
    "        lst.append(elem)\n",
    "        elem = input(\"Please Eneter something to add to list or hit Enter to exit: \")\n",
    "\n",
    "    return lst\n",
    "\n",
    "def main():\n",
    "    lst = get_input()\n",
    "    short_list(lst)\n",
    "\n",
    "if __name__ == \"__main__\":\n",
    "    main()"
   ]
  }
 ],
 "metadata": {
  "kernelspec": {
   "display_name": "Python 3",
   "language": "python",
   "name": "python3"
  },
  "language_info": {
   "codemirror_mode": {
    "name": "ipython",
    "version": 3
   },
   "file_extension": ".py",
   "mimetype": "text/x-python",
   "name": "python",
   "nbconvert_exporter": "python",
   "pygments_lexer": "ipython3",
   "version": "3.13.2"
  }
 },
 "nbformat": 4,
 "nbformat_minor": 2
}
