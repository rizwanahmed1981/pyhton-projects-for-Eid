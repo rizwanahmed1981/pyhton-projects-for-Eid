{
 "cells": [
  {
   "cell_type": "markdown",
   "metadata": {},
   "source": [
    "# Reminder Division"
   ]
  },
  {
   "cell_type": "code",
   "execution_count": 1,
   "metadata": {},
   "outputs": [
    {
     "name": "stdout",
     "output_type": "stream",
     "text": [
      "the remainder of 25.0 with 3.0 is 1.0\n"
     ]
    }
   ],
   "source": [
    "def main():\n",
    "    dividend: float = float(input(\"Enter number to be Divided: \"))\n",
    "    diviser: float = float(input(\"Enter number to divded by: \"))\n",
    "\n",
    "    remainder: float = dividend % diviser\n",
    "\n",
    "    print(f\"the remainder of {dividend} with {diviser} is {remainder}\")\n",
    "\n",
    "if __name__ == \"__main__\":\n",
    "    main()"
   ]
  }
 ],
 "metadata": {
  "kernelspec": {
   "display_name": "Python 3",
   "language": "python",
   "name": "python3"
  },
  "language_info": {
   "codemirror_mode": {
    "name": "ipython",
    "version": 3
   },
   "file_extension": ".py",
   "mimetype": "text/x-python",
   "name": "python",
   "nbconvert_exporter": "python",
   "pygments_lexer": "ipython3",
   "version": "3.13.2"
  }
 },
 "nbformat": 4,
 "nbformat_minor": 2
}
